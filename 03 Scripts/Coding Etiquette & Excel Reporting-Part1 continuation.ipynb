{
 "cells": [
  {
   "cell_type": "code",
   "execution_count": 3,
   "id": "cd0c1d3b",
   "metadata": {},
   "outputs": [],
   "source": [
    "import pandas as pd\n",
    "import numpy as np\n",
    "import os\n",
    "import matplotlib.pyplot as plt\n",
    "import seaborn as sns\n",
    "import scipy"
   ]
  },
  {
   "cell_type": "code",
   "execution_count": 4,
   "id": "2b5dbc6b",
   "metadata": {},
   "outputs": [],
   "source": [
    "path=r'C:\\Users\\User\\CareerFoundry_Project_work'"
   ]
  },
  {
   "cell_type": "code",
   "execution_count": 5,
   "id": "2784e545",
   "metadata": {},
   "outputs": [],
   "source": [
    "#Importing high_activity_customers data\n",
    "high_activity_customers = pd.read_pickle(os.path.join(path, '02 Data', 'Prepared Data', 'high_activity_customers.pkl'))"
   ]
  },
  {
   "cell_type": "markdown",
   "id": "81217d8e",
   "metadata": {},
   "source": [
    "Creating profiling variables"
   ]
  },
  {
   "cell_type": "code",
   "execution_count": 6,
   "id": "138fde80",
   "metadata": {
    "scrolled": true
   },
   "outputs": [
    {
     "data": {
      "text/plain": [
       "count    2.927094e+07\n",
       "mean     4.947596e+01\n",
       "std      1.847853e+01\n",
       "min      1.800000e+01\n",
       "25%      3.400000e+01\n",
       "50%      4.900000e+01\n",
       "75%      6.500000e+01\n",
       "max      8.100000e+01\n",
       "Name: Age, dtype: float64"
      ]
     },
     "execution_count": 6,
     "metadata": {},
     "output_type": "execute_result"
    }
   ],
   "source": [
    "high_activity_customers['Age'].describe()"
   ]
  },
  {
   "cell_type": "code",
   "execution_count": 7,
   "id": "bf5640fd",
   "metadata": {},
   "outputs": [],
   "source": [
    "#Age profiling\n",
    "high_activity_customers.loc[high_activity_customers['Age'] >=65, 'age_flag'] = 'Older Age'"
   ]
  },
  {
   "cell_type": "code",
   "execution_count": 8,
   "id": "4a813659",
   "metadata": {},
   "outputs": [],
   "source": [
    "high_activity_customers.loc[high_activity_customers['Age'] <=34, 'age_flag'] = 'Younger Age'"
   ]
  },
  {
   "cell_type": "code",
   "execution_count": 9,
   "id": "e15cf0c0",
   "metadata": {},
   "outputs": [],
   "source": [
    "high_activity_customers.loc[(high_activity_customers['Age'] >= 35) & (high_activity_customers['Age'] <= 64), 'age_flag'] = 'Middle Age'"
   ]
  },
  {
   "cell_type": "code",
   "execution_count": 10,
   "id": "e145ca72",
   "metadata": {},
   "outputs": [
    {
     "data": {
      "text/plain": [
       "Middle Age     13755021\n",
       "Younger Age     7776569\n",
       "Older Age       7739348\n",
       "Name: age_flag, dtype: int64"
      ]
     },
     "execution_count": 10,
     "metadata": {},
     "output_type": "execute_result"
    }
   ],
   "source": [
    "high_activity_customers['age_flag'].value_counts(dropna=False)\n"
   ]
  },
  {
   "cell_type": "code",
   "execution_count": 11,
   "id": "b01e04a4",
   "metadata": {},
   "outputs": [
    {
     "data": {
      "text/plain": [
       "count    2.927094e+07\n",
       "mean     9.969692e+04\n",
       "std      4.314845e+04\n",
       "min      2.590300e+04\n",
       "25%      6.736700e+04\n",
       "50%      9.676300e+04\n",
       "75%      1.281390e+05\n",
       "max      5.939010e+05\n",
       "Name: income, dtype: float64"
      ]
     },
     "execution_count": 11,
     "metadata": {},
     "output_type": "execute_result"
    }
   ],
   "source": [
    "high_activity_customers['income'].describe()"
   ]
  },
  {
   "cell_type": "code",
   "execution_count": 12,
   "id": "475c8292",
   "metadata": {
    "scrolled": true
   },
   "outputs": [],
   "source": [
    "#Income profiling\n",
    "high_activity_customers.loc[(high_activity_customers['income'] >= 25000 ) & (high_activity_customers['income'] < 75000), 'Income_flag'] = 'Low_Income'"
   ]
  },
  {
   "cell_type": "code",
   "execution_count": 13,
   "id": "57736ea3",
   "metadata": {},
   "outputs": [],
   "source": [
    "high_activity_customers.loc[(high_activity_customers['income'] >= 75000) & (high_activity_customers['income'] < 150000), 'Income_flag'] = 'Middle_Income'"
   ]
  },
  {
   "cell_type": "code",
   "execution_count": 14,
   "id": "8a437476",
   "metadata": {},
   "outputs": [],
   "source": [
    "high_activity_customers.loc[(high_activity_customers['income'] >= 150000), 'Income_flag'] = 'High_Income'"
   ]
  },
  {
   "cell_type": "code",
   "execution_count": 15,
   "id": "c9db61f1",
   "metadata": {},
   "outputs": [
    {
     "data": {
      "text/plain": [
       "Middle_Income    16242146\n",
       "Low_Income        9354836\n",
       "High_Income       3673956\n",
       "Name: Income_flag, dtype: int64"
      ]
     },
     "execution_count": 15,
     "metadata": {},
     "output_type": "execute_result"
    }
   ],
   "source": [
    "high_activity_customers['Income_flag'].value_counts(dropna=False)"
   ]
  },
  {
   "cell_type": "code",
   "execution_count": 16,
   "id": "22157274",
   "metadata": {},
   "outputs": [],
   "source": [
    "#Dependent profiling\n",
    "high_activity_customers.loc[high_activity_customers['number_of_dependents'] == 0, 'dependent_flag'] = 'No dependants'"
   ]
  },
  {
   "cell_type": "code",
   "execution_count": 17,
   "id": "2616c192",
   "metadata": {},
   "outputs": [],
   "source": [
    "high_activity_customers.loc[high_activity_customers['number_of_dependents'] > 0, 'dependent_flag'] = 'Have dependants'"
   ]
  },
  {
   "cell_type": "code",
   "execution_count": 18,
   "id": "98963c78",
   "metadata": {},
   "outputs": [
    {
     "data": {
      "text/plain": [
       "Have dependants    21958418\n",
       "No dependants       7312520\n",
       "Name: dependent_flag, dtype: int64"
      ]
     },
     "execution_count": 18,
     "metadata": {},
     "output_type": "execute_result"
    }
   ],
   "source": [
    "high_activity_customers['dependent_flag'].value_counts(dropna=False)"
   ]
  },
  {
   "cell_type": "code",
   "execution_count": 19,
   "id": "baaab8ab",
   "metadata": {},
   "outputs": [],
   "source": [
    "df_depts = pd.read_csv(os.path.join(path, '02 Data', 'Prepared Data', 'departments_wrangled.csv'), index_col=False)"
   ]
  },
  {
   "cell_type": "code",
   "execution_count": 26,
   "id": "da5925ff",
   "metadata": {},
   "outputs": [],
   "source": [
    "df_depts=df_depts.rename(columns={'Unnamed: 0' : 'department_id'})"
   ]
  },
  {
   "cell_type": "code",
   "execution_count": 27,
   "id": "c875c08f",
   "metadata": {},
   "outputs": [],
   "source": [
    "df_merge = high_activity_customers.merge(df_depts,on = 'department_id')"
   ]
  },
  {
   "cell_type": "code",
   "execution_count": 28,
   "id": "2dce29c8",
   "metadata": {
    "scrolled": true
   },
   "outputs": [
    {
     "data": {
      "text/html": [
       "<div>\n",
       "<style scoped>\n",
       "    .dataframe tbody tr th:only-of-type {\n",
       "        vertical-align: middle;\n",
       "    }\n",
       "\n",
       "    .dataframe tbody tr th {\n",
       "        vertical-align: top;\n",
       "    }\n",
       "\n",
       "    .dataframe thead th {\n",
       "        text-align: right;\n",
       "    }\n",
       "</style>\n",
       "<table border=\"1\" class=\"dataframe\">\n",
       "  <thead>\n",
       "    <tr style=\"text-align: right;\">\n",
       "      <th></th>\n",
       "      <th>user_id</th>\n",
       "      <th>first_name</th>\n",
       "      <th>Gender</th>\n",
       "      <th>STATE</th>\n",
       "      <th>Age</th>\n",
       "      <th>date_joined</th>\n",
       "      <th>number_of_dependents</th>\n",
       "      <th>family_status</th>\n",
       "      <th>income</th>\n",
       "      <th>order_id</th>\n",
       "      <th>order_number</th>\n",
       "      <th>orders_day_of_week</th>\n",
       "      <th>order_hour_of_day</th>\n",
       "      <th>days_since_prior_order</th>\n",
       "      <th>product_id</th>\n",
       "      <th>product_name</th>\n",
       "      <th>aisle_id</th>\n",
       "      <th>department_id</th>\n",
       "      <th>prices</th>\n",
       "      <th>Busiest day</th>\n",
       "      <th>Busiest days</th>\n",
       "      <th>busiest_period_of_day</th>\n",
       "      <th>max_order</th>\n",
       "      <th>loyalty_flag</th>\n",
       "      <th>spenders</th>\n",
       "      <th>spending_flag</th>\n",
       "      <th>Regularity_of_users</th>\n",
       "      <th>regularity_flag</th>\n",
       "      <th>_merge</th>\n",
       "      <th>Region</th>\n",
       "      <th>activity_flag</th>\n",
       "      <th>age_flag</th>\n",
       "      <th>Income_flag</th>\n",
       "      <th>dependent_flag</th>\n",
       "      <th>department</th>\n",
       "    </tr>\n",
       "  </thead>\n",
       "  <tbody>\n",
       "    <tr>\n",
       "      <th>0</th>\n",
       "      <td>26711</td>\n",
       "      <td>Deborah</td>\n",
       "      <td>Female</td>\n",
       "      <td>Missouri</td>\n",
       "      <td>48</td>\n",
       "      <td>1/1/2017</td>\n",
       "      <td>3</td>\n",
       "      <td>married</td>\n",
       "      <td>165665</td>\n",
       "      <td>2543867</td>\n",
       "      <td>5</td>\n",
       "      <td>1</td>\n",
       "      <td>9</td>\n",
       "      <td>30.0</td>\n",
       "      <td>196</td>\n",
       "      <td>Soda</td>\n",
       "      <td>77</td>\n",
       "      <td>7</td>\n",
       "      <td>9.0</td>\n",
       "      <td>Regularly busy</td>\n",
       "      <td>Busiest days</td>\n",
       "      <td>Most orders</td>\n",
       "      <td>8</td>\n",
       "      <td>Regular customer</td>\n",
       "      <td>7.988889</td>\n",
       "      <td>Low spender</td>\n",
       "      <td>19.0</td>\n",
       "      <td>Regular customer</td>\n",
       "      <td>both</td>\n",
       "      <td>Midwest</td>\n",
       "      <td>high_activity_customers</td>\n",
       "      <td>Middle Age</td>\n",
       "      <td>High_Income</td>\n",
       "      <td>Have dependants</td>\n",
       "      <td>beverages</td>\n",
       "    </tr>\n",
       "    <tr>\n",
       "      <th>1</th>\n",
       "      <td>26711</td>\n",
       "      <td>Deborah</td>\n",
       "      <td>Female</td>\n",
       "      <td>Missouri</td>\n",
       "      <td>48</td>\n",
       "      <td>1/1/2017</td>\n",
       "      <td>3</td>\n",
       "      <td>married</td>\n",
       "      <td>165665</td>\n",
       "      <td>1285508</td>\n",
       "      <td>7</td>\n",
       "      <td>5</td>\n",
       "      <td>15</td>\n",
       "      <td>11.0</td>\n",
       "      <td>196</td>\n",
       "      <td>Soda</td>\n",
       "      <td>77</td>\n",
       "      <td>7</td>\n",
       "      <td>9.0</td>\n",
       "      <td>Regularly busy</td>\n",
       "      <td>Regularly busy</td>\n",
       "      <td>Most orders</td>\n",
       "      <td>8</td>\n",
       "      <td>Regular customer</td>\n",
       "      <td>7.988889</td>\n",
       "      <td>Low spender</td>\n",
       "      <td>19.0</td>\n",
       "      <td>Regular customer</td>\n",
       "      <td>both</td>\n",
       "      <td>Midwest</td>\n",
       "      <td>high_activity_customers</td>\n",
       "      <td>Middle Age</td>\n",
       "      <td>High_Income</td>\n",
       "      <td>Have dependants</td>\n",
       "      <td>beverages</td>\n",
       "    </tr>\n",
       "    <tr>\n",
       "      <th>2</th>\n",
       "      <td>26711</td>\n",
       "      <td>Deborah</td>\n",
       "      <td>Female</td>\n",
       "      <td>Missouri</td>\n",
       "      <td>48</td>\n",
       "      <td>1/1/2017</td>\n",
       "      <td>3</td>\n",
       "      <td>married</td>\n",
       "      <td>165665</td>\n",
       "      <td>2578584</td>\n",
       "      <td>8</td>\n",
       "      <td>1</td>\n",
       "      <td>15</td>\n",
       "      <td>10.0</td>\n",
       "      <td>196</td>\n",
       "      <td>Soda</td>\n",
       "      <td>77</td>\n",
       "      <td>7</td>\n",
       "      <td>9.0</td>\n",
       "      <td>Regularly busy</td>\n",
       "      <td>Busiest days</td>\n",
       "      <td>Most orders</td>\n",
       "      <td>8</td>\n",
       "      <td>Regular customer</td>\n",
       "      <td>7.988889</td>\n",
       "      <td>Low spender</td>\n",
       "      <td>19.0</td>\n",
       "      <td>Regular customer</td>\n",
       "      <td>both</td>\n",
       "      <td>Midwest</td>\n",
       "      <td>high_activity_customers</td>\n",
       "      <td>Middle Age</td>\n",
       "      <td>High_Income</td>\n",
       "      <td>Have dependants</td>\n",
       "      <td>beverages</td>\n",
       "    </tr>\n",
       "    <tr>\n",
       "      <th>3</th>\n",
       "      <td>33890</td>\n",
       "      <td>Patricia</td>\n",
       "      <td>Female</td>\n",
       "      <td>New Mexico</td>\n",
       "      <td>36</td>\n",
       "      <td>1/1/2017</td>\n",
       "      <td>0</td>\n",
       "      <td>single</td>\n",
       "      <td>59285</td>\n",
       "      <td>1044841</td>\n",
       "      <td>3</td>\n",
       "      <td>6</td>\n",
       "      <td>11</td>\n",
       "      <td>30.0</td>\n",
       "      <td>196</td>\n",
       "      <td>Soda</td>\n",
       "      <td>77</td>\n",
       "      <td>7</td>\n",
       "      <td>9.0</td>\n",
       "      <td>Regularly busy</td>\n",
       "      <td>Regularly busy</td>\n",
       "      <td>Most orders</td>\n",
       "      <td>12</td>\n",
       "      <td>Regular customer</td>\n",
       "      <td>7.057534</td>\n",
       "      <td>Low spender</td>\n",
       "      <td>26.0</td>\n",
       "      <td>Non-frequent customer</td>\n",
       "      <td>both</td>\n",
       "      <td>West</td>\n",
       "      <td>high_activity_customers</td>\n",
       "      <td>Middle Age</td>\n",
       "      <td>Low_Income</td>\n",
       "      <td>No dependants</td>\n",
       "      <td>beverages</td>\n",
       "    </tr>\n",
       "    <tr>\n",
       "      <th>4</th>\n",
       "      <td>33890</td>\n",
       "      <td>Patricia</td>\n",
       "      <td>Female</td>\n",
       "      <td>New Mexico</td>\n",
       "      <td>36</td>\n",
       "      <td>1/1/2017</td>\n",
       "      <td>0</td>\n",
       "      <td>single</td>\n",
       "      <td>59285</td>\n",
       "      <td>474720</td>\n",
       "      <td>4</td>\n",
       "      <td>1</td>\n",
       "      <td>20</td>\n",
       "      <td>16.0</td>\n",
       "      <td>196</td>\n",
       "      <td>Soda</td>\n",
       "      <td>77</td>\n",
       "      <td>7</td>\n",
       "      <td>9.0</td>\n",
       "      <td>Regularly busy</td>\n",
       "      <td>Busiest days</td>\n",
       "      <td>Average orders</td>\n",
       "      <td>12</td>\n",
       "      <td>Regular customer</td>\n",
       "      <td>7.057534</td>\n",
       "      <td>Low spender</td>\n",
       "      <td>26.0</td>\n",
       "      <td>Non-frequent customer</td>\n",
       "      <td>both</td>\n",
       "      <td>West</td>\n",
       "      <td>high_activity_customers</td>\n",
       "      <td>Middle Age</td>\n",
       "      <td>Low_Income</td>\n",
       "      <td>No dependants</td>\n",
       "      <td>beverages</td>\n",
       "    </tr>\n",
       "  </tbody>\n",
       "</table>\n",
       "</div>"
      ],
      "text/plain": [
       "   user_id first_name  Gender       STATE  Age date_joined  \\\n",
       "0    26711    Deborah  Female    Missouri   48    1/1/2017   \n",
       "1    26711    Deborah  Female    Missouri   48    1/1/2017   \n",
       "2    26711    Deborah  Female    Missouri   48    1/1/2017   \n",
       "3    33890   Patricia  Female  New Mexico   36    1/1/2017   \n",
       "4    33890   Patricia  Female  New Mexico   36    1/1/2017   \n",
       "\n",
       "   number_of_dependents family_status  income  order_id  order_number  \\\n",
       "0                     3       married  165665   2543867             5   \n",
       "1                     3       married  165665   1285508             7   \n",
       "2                     3       married  165665   2578584             8   \n",
       "3                     0        single   59285   1044841             3   \n",
       "4                     0        single   59285    474720             4   \n",
       "\n",
       "   orders_day_of_week  order_hour_of_day  days_since_prior_order  product_id  \\\n",
       "0                   1                  9                    30.0         196   \n",
       "1                   5                 15                    11.0         196   \n",
       "2                   1                 15                    10.0         196   \n",
       "3                   6                 11                    30.0         196   \n",
       "4                   1                 20                    16.0         196   \n",
       "\n",
       "  product_name  aisle_id  department_id  prices     Busiest day  \\\n",
       "0         Soda        77              7     9.0  Regularly busy   \n",
       "1         Soda        77              7     9.0  Regularly busy   \n",
       "2         Soda        77              7     9.0  Regularly busy   \n",
       "3         Soda        77              7     9.0  Regularly busy   \n",
       "4         Soda        77              7     9.0  Regularly busy   \n",
       "\n",
       "     Busiest days busiest_period_of_day  max_order      loyalty_flag  \\\n",
       "0    Busiest days           Most orders          8  Regular customer   \n",
       "1  Regularly busy           Most orders          8  Regular customer   \n",
       "2    Busiest days           Most orders          8  Regular customer   \n",
       "3  Regularly busy           Most orders         12  Regular customer   \n",
       "4    Busiest days        Average orders         12  Regular customer   \n",
       "\n",
       "   spenders spending_flag  Regularity_of_users        regularity_flag _merge  \\\n",
       "0  7.988889   Low spender                 19.0       Regular customer   both   \n",
       "1  7.988889   Low spender                 19.0       Regular customer   both   \n",
       "2  7.988889   Low spender                 19.0       Regular customer   both   \n",
       "3  7.057534   Low spender                 26.0  Non-frequent customer   both   \n",
       "4  7.057534   Low spender                 26.0  Non-frequent customer   both   \n",
       "\n",
       "    Region            activity_flag    age_flag  Income_flag   dependent_flag  \\\n",
       "0  Midwest  high_activity_customers  Middle Age  High_Income  Have dependants   \n",
       "1  Midwest  high_activity_customers  Middle Age  High_Income  Have dependants   \n",
       "2  Midwest  high_activity_customers  Middle Age  High_Income  Have dependants   \n",
       "3     West  high_activity_customers  Middle Age   Low_Income    No dependants   \n",
       "4     West  high_activity_customers  Middle Age   Low_Income    No dependants   \n",
       "\n",
       "  department  \n",
       "0  beverages  \n",
       "1  beverages  \n",
       "2  beverages  \n",
       "3  beverages  \n",
       "4  beverages  "
      ]
     },
     "execution_count": 28,
     "metadata": {},
     "output_type": "execute_result"
    }
   ],
   "source": [
    "pd.set_option(\"display.max_columns\", None)\n",
    "# display the dataframe head\n",
    "df_merge.head()"
   ]
  },
  {
   "cell_type": "code",
   "execution_count": 29,
   "id": "4bc580c2",
   "metadata": {},
   "outputs": [],
   "source": [
    "#Elderly customer profile\n",
    "df_merge.loc[(df_merge['age_flag'] == 'Older Age') & (df_merge['dependent_flag'] == 'Have dependants'), 'customer_profile'] = 'Older Parent'"
   ]
  },
  {
   "cell_type": "code",
   "execution_count": 30,
   "id": "4b7840e9",
   "metadata": {},
   "outputs": [],
   "source": [
    "#Young parent customer profile\n",
    "df_merge.loc[(df_merge['age_flag'] == 'Younger Age') & (df_merge['dependent_flag'] == 'Have dependants'), 'customer_profile'] = 'Young_Parent'"
   ]
  },
  {
   "cell_type": "code",
   "execution_count": 31,
   "id": "8709648c",
   "metadata": {},
   "outputs": [],
   "source": [
    "#Middle-aged parent customer profile\n",
    "df_merge.loc[(df_merge['age_flag'] == 'Middle Age') & (df_merge['dependent_flag'] == 'Have dependants'), 'customer_profile'] = 'Middle_age_Parent'"
   ]
  },
  {
   "cell_type": "code",
   "execution_count": 32,
   "id": "cf64c9fc",
   "metadata": {},
   "outputs": [],
   "source": [
    "#Single customers sorted by age group \n",
    "df_merge.loc[(df_merge['age_flag'] == 'Younger Age') & (df_merge['family_status'] == 'single'), 'customer_profile'] = 'Younger Single'\n"
   ]
  },
  {
   "cell_type": "code",
   "execution_count": 33,
   "id": "2f915934",
   "metadata": {},
   "outputs": [],
   "source": [
    "df_merge.loc[(df_merge['age_flag'] == 'Middle Age') & (df_merge['family_status'] == 'single'), 'customer_profile'] = 'Middle Aged Single'\n"
   ]
  },
  {
   "cell_type": "code",
   "execution_count": 34,
   "id": "e640020b",
   "metadata": {},
   "outputs": [],
   "source": [
    "df_merge.loc[(df_merge['age_flag'] == 'Older Age') & (df_merge['family_status'] == 'single'), 'customer_profile'] = 'Older Single'"
   ]
  },
  {
   "cell_type": "markdown",
   "id": "9b88f77b",
   "metadata": {},
   "source": [
    "Creating visualizations to show the distribution of profiles\n"
   ]
  },
  {
   "cell_type": "code",
   "execution_count": 58,
   "id": "8e093f09",
   "metadata": {},
   "outputs": [
    {
     "data": {
      "image/png": "[encoded data removed]",
      "text/plain": [
       "<Figure size 640x480 with 1 Axes>"
      ]
     },
     "metadata": {},
     "output_type": "display_data"
    }
   ],
   "source": [
    "age_groups_bar = df_merge['age_flag'].value_counts().plot.bar(color = ['green', 'blue', 'yellow'], title = 'The Number of Orders by Age Group')"
   ]
  },
  {
   "cell_type": "code",
   "execution_count": 59,
   "id": "270c6df7",
   "metadata": {},
   "outputs": [],
   "source": [
    "#Export graph\n",
    "age_groups_bar.figure.savefig(os.path.join(path, '04 Analysis', 'Visualizations', 'age_groups_bar.png'))"
   ]
  },
  {
   "cell_type": "code",
   "execution_count": 60,
   "id": "6e6d7a93",
   "metadata": {},
   "outputs": [
    {
     "data": {
      "image/png": "[encoded data removed]",
      "text/plain": [
       "<Figure size 640x480 with 1 Axes>"
      ]
     },
     "metadata": {},
     "output_type": "display_data"
    }
   ],
   "source": [
    "income_groups_bar = df_merge['Income_flag'].value_counts().plot.bar(color = ['green', 'blue', 'yellow'], title = 'The Number of Orders by Income Group')"
   ]
  },
  {
   "cell_type": "code",
   "execution_count": 61,
   "id": "842cc37d",
   "metadata": {},
   "outputs": [],
   "source": [
    "#Export graph\n",
    "income_groups_bar.figure.savefig(os.path.join(path, '04 Analysis', 'Visualizations', 'income_groups_bar.png'))"
   ]
  },
  {
   "cell_type": "code",
   "execution_count": 62,
   "id": "711e26a8",
   "metadata": {},
   "outputs": [
    {
     "data": {
      "image/png": "[encoded data removed]",
      "text/plain": [
       "<Figure size 640x480 with 1 Axes>"
      ]
     },
     "metadata": {},
     "output_type": "display_data"
    }
   ],
   "source": [
    "dependent_groups_bar = df_merge['dependent_flag'].value_counts().plot.bar(color = ['green', 'blue'], title = 'The Number of Orders by dependents Group')"
   ]
  },
  {
   "cell_type": "code",
   "execution_count": 63,
   "id": "97a79810",
   "metadata": {},
   "outputs": [],
   "source": [
    "#Export graph\n",
    "dependent_groups_bar.figure.savefig(os.path.join(path, '04 Analysis', 'Visualizations', 'dependent_groups_bar.png'))"
   ]
  },
  {
   "cell_type": "code",
   "execution_count": 67,
   "id": "54c47c82",
   "metadata": {},
   "outputs": [
    {
     "data": {
      "text/html": [
       "<div>\n",
       "<style scoped>\n",
       "    .dataframe tbody tr th:only-of-type {\n",
       "        vertical-align: middle;\n",
       "    }\n",
       "\n",
       "    .dataframe tbody tr th {\n",
       "        vertical-align: top;\n",
       "    }\n",
       "\n",
       "    .dataframe thead tr th {\n",
       "        text-align: left;\n",
       "    }\n",
       "\n",
       "    .dataframe thead tr:last-of-type th {\n",
       "        text-align: right;\n",
       "    }\n",
       "</style>\n",
       "<table border=\"1\" class=\"dataframe\">\n",
       "  <thead>\n",
       "    <tr>\n",
       "      <th></th>\n",
       "      <th colspan=\"3\" halign=\"left\">prices</th>\n",
       "    </tr>\n",
       "    <tr>\n",
       "      <th></th>\n",
       "      <th>min</th>\n",
       "      <th>mean</th>\n",
       "      <th>max</th>\n",
       "    </tr>\n",
       "    <tr>\n",
       "      <th>age_flag</th>\n",
       "      <th></th>\n",
       "      <th></th>\n",
       "      <th></th>\n",
       "    </tr>\n",
       "  </thead>\n",
       "  <tbody>\n",
       "    <tr>\n",
       "      <th>Middle Age</th>\n",
       "      <td>1.0</td>\n",
       "      <td>11.895564</td>\n",
       "      <td>99999.0</td>\n",
       "    </tr>\n",
       "    <tr>\n",
       "      <th>Older Age</th>\n",
       "      <td>1.0</td>\n",
       "      <td>11.590229</td>\n",
       "      <td>99999.0</td>\n",
       "    </tr>\n",
       "    <tr>\n",
       "      <th>Younger Age</th>\n",
       "      <td>1.0</td>\n",
       "      <td>12.096239</td>\n",
       "      <td>99999.0</td>\n",
       "    </tr>\n",
       "  </tbody>\n",
       "</table>\n",
       "</div>"
      ],
      "text/plain": [
       "            prices                    \n",
       "               min       mean      max\n",
       "age_flag                              \n",
       "Middle Age     1.0  11.895564  99999.0\n",
       "Older Age      1.0  11.590229  99999.0\n",
       "Younger Age    1.0  12.096239  99999.0"
      ]
     },
     "execution_count": 67,
     "metadata": {},
     "output_type": "execute_result"
    }
   ],
   "source": [
    "#Aggregate the max, mean, and min variables on a customer-profile level for usage frequency and expenditure\n",
    "df_merge.groupby('age_flag').agg({'prices':['min', 'mean', 'max']})"
   ]
  },
  {
   "cell_type": "code",
   "execution_count": 68,
   "id": "7e29d13b",
   "metadata": {},
   "outputs": [
    {
     "data": {
      "text/html": [
       "<div>\n",
       "<style scoped>\n",
       "    .dataframe tbody tr th:only-of-type {\n",
       "        vertical-align: middle;\n",
       "    }\n",
       "\n",
       "    .dataframe tbody tr th {\n",
       "        vertical-align: top;\n",
       "    }\n",
       "\n",
       "    .dataframe thead tr th {\n",
       "        text-align: left;\n",
       "    }\n",
       "\n",
       "    .dataframe thead tr:last-of-type th {\n",
       "        text-align: right;\n",
       "    }\n",
       "</style>\n",
       "<table border=\"1\" class=\"dataframe\">\n",
       "  <thead>\n",
       "    <tr>\n",
       "      <th></th>\n",
       "      <th colspan=\"3\" halign=\"left\">prices</th>\n",
       "    </tr>\n",
       "    <tr>\n",
       "      <th></th>\n",
       "      <th>min</th>\n",
       "      <th>mean</th>\n",
       "      <th>max</th>\n",
       "    </tr>\n",
       "    <tr>\n",
       "      <th>customer_profile</th>\n",
       "      <th></th>\n",
       "      <th></th>\n",
       "      <th></th>\n",
       "    </tr>\n",
       "  </thead>\n",
       "  <tbody>\n",
       "    <tr>\n",
       "      <th>Middle Aged Single</th>\n",
       "      <td>1.0</td>\n",
       "      <td>12.521791</td>\n",
       "      <td>99999.0</td>\n",
       "    </tr>\n",
       "    <tr>\n",
       "      <th>Middle_age_Parent</th>\n",
       "      <td>1.0</td>\n",
       "      <td>11.834072</td>\n",
       "      <td>99999.0</td>\n",
       "    </tr>\n",
       "    <tr>\n",
       "      <th>Older Parent</th>\n",
       "      <td>1.0</td>\n",
       "      <td>11.423091</td>\n",
       "      <td>99999.0</td>\n",
       "    </tr>\n",
       "    <tr>\n",
       "      <th>Young_Parent</th>\n",
       "      <td>1.0</td>\n",
       "      <td>12.050805</td>\n",
       "      <td>99999.0</td>\n",
       "    </tr>\n",
       "    <tr>\n",
       "      <th>Younger Single</th>\n",
       "      <td>1.0</td>\n",
       "      <td>12.233665</td>\n",
       "      <td>99999.0</td>\n",
       "    </tr>\n",
       "  </tbody>\n",
       "</table>\n",
       "</div>"
      ],
      "text/plain": [
       "                   prices                    \n",
       "                      min       mean      max\n",
       "customer_profile                             \n",
       "Middle Aged Single    1.0  12.521791  99999.0\n",
       "Middle_age_Parent     1.0  11.834072  99999.0\n",
       "Older Parent          1.0  11.423091  99999.0\n",
       "Young_Parent          1.0  12.050805  99999.0\n",
       "Younger Single        1.0  12.233665  99999.0"
      ]
     },
     "execution_count": 68,
     "metadata": {},
     "output_type": "execute_result"
    }
   ],
   "source": [
    "df_merge.groupby('customer_profile').agg({'prices':['min', 'mean', 'max']})"
   ]
  },
  {
   "cell_type": "code",
   "execution_count": 69,
   "id": "df5ee25a",
   "metadata": {},
   "outputs": [
    {
     "data": {
      "text/html": [
       "<div>\n",
       "<style scoped>\n",
       "    .dataframe tbody tr th:only-of-type {\n",
       "        vertical-align: middle;\n",
       "    }\n",
       "\n",
       "    .dataframe tbody tr th {\n",
       "        vertical-align: top;\n",
       "    }\n",
       "\n",
       "    .dataframe thead tr th {\n",
       "        text-align: left;\n",
       "    }\n",
       "\n",
       "    .dataframe thead tr:last-of-type th {\n",
       "        text-align: right;\n",
       "    }\n",
       "</style>\n",
       "<table border=\"1\" class=\"dataframe\">\n",
       "  <thead>\n",
       "    <tr>\n",
       "      <th></th>\n",
       "      <th colspan=\"3\" halign=\"left\">number_of_dependents</th>\n",
       "    </tr>\n",
       "    <tr>\n",
       "      <th></th>\n",
       "      <th>min</th>\n",
       "      <th>mean</th>\n",
       "      <th>max</th>\n",
       "    </tr>\n",
       "    <tr>\n",
       "      <th>family_status</th>\n",
       "      <th></th>\n",
       "      <th></th>\n",
       "      <th></th>\n",
       "    </tr>\n",
       "  </thead>\n",
       "  <tbody>\n",
       "    <tr>\n",
       "      <th>divorced/widowed</th>\n",
       "      <td>0</td>\n",
       "      <td>0.000000</td>\n",
       "      <td>0</td>\n",
       "    </tr>\n",
       "    <tr>\n",
       "      <th>living with parents and siblings</th>\n",
       "      <td>1</td>\n",
       "      <td>1.980722</td>\n",
       "      <td>3</td>\n",
       "    </tr>\n",
       "    <tr>\n",
       "      <th>married</th>\n",
       "      <td>1</td>\n",
       "      <td>2.003090</td>\n",
       "      <td>3</td>\n",
       "    </tr>\n",
       "    <tr>\n",
       "      <th>single</th>\n",
       "      <td>0</td>\n",
       "      <td>0.000000</td>\n",
       "      <td>0</td>\n",
       "    </tr>\n",
       "  </tbody>\n",
       "</table>\n",
       "</div>"
      ],
      "text/plain": [
       "                                 number_of_dependents              \n",
       "                                                  min      mean max\n",
       "family_status                                                      \n",
       "divorced/widowed                                    0  0.000000   0\n",
       "living with parents and siblings                    1  1.980722   3\n",
       "married                                             1  2.003090   3\n",
       "single                                              0  0.000000   0"
      ]
     },
     "execution_count": 69,
     "metadata": {},
     "output_type": "execute_result"
    }
   ],
   "source": [
    "df_merge.groupby('family_status').agg({'number_of_dependents':['min', 'mean', 'max']})"
   ]
  },
  {
   "cell_type": "code",
   "execution_count": 71,
   "id": "b50dac77",
   "metadata": {},
   "outputs": [
    {
     "data": {
      "text/html": [
       "<div>\n",
       "<style scoped>\n",
       "    .dataframe tbody tr th:only-of-type {\n",
       "        vertical-align: middle;\n",
       "    }\n",
       "\n",
       "    .dataframe tbody tr th {\n",
       "        vertical-align: top;\n",
       "    }\n",
       "\n",
       "    .dataframe thead tr th {\n",
       "        text-align: left;\n",
       "    }\n",
       "\n",
       "    .dataframe thead tr:last-of-type th {\n",
       "        text-align: right;\n",
       "    }\n",
       "</style>\n",
       "<table border=\"1\" class=\"dataframe\">\n",
       "  <thead>\n",
       "    <tr>\n",
       "      <th></th>\n",
       "      <th colspan=\"3\" halign=\"left\">days_since_prior_order</th>\n",
       "    </tr>\n",
       "    <tr>\n",
       "      <th></th>\n",
       "      <th>min</th>\n",
       "      <th>mean</th>\n",
       "      <th>max</th>\n",
       "    </tr>\n",
       "    <tr>\n",
       "      <th>customer_profile</th>\n",
       "      <th></th>\n",
       "      <th></th>\n",
       "      <th></th>\n",
       "    </tr>\n",
       "  </thead>\n",
       "  <tbody>\n",
       "    <tr>\n",
       "      <th>Middle Aged Single</th>\n",
       "      <td>0.0</td>\n",
       "      <td>10.762218</td>\n",
       "      <td>30.0</td>\n",
       "    </tr>\n",
       "    <tr>\n",
       "      <th>Middle_age_Parent</th>\n",
       "      <td>0.0</td>\n",
       "      <td>10.843106</td>\n",
       "      <td>30.0</td>\n",
       "    </tr>\n",
       "    <tr>\n",
       "      <th>Older Parent</th>\n",
       "      <td>0.0</td>\n",
       "      <td>10.812258</td>\n",
       "      <td>30.0</td>\n",
       "    </tr>\n",
       "    <tr>\n",
       "      <th>Young_Parent</th>\n",
       "      <td>0.0</td>\n",
       "      <td>10.803913</td>\n",
       "      <td>30.0</td>\n",
       "    </tr>\n",
       "    <tr>\n",
       "      <th>Younger Single</th>\n",
       "      <td>0.0</td>\n",
       "      <td>10.932194</td>\n",
       "      <td>30.0</td>\n",
       "    </tr>\n",
       "  </tbody>\n",
       "</table>\n",
       "</div>"
      ],
      "text/plain": [
       "                   days_since_prior_order                 \n",
       "                                      min       mean   max\n",
       "customer_profile                                          \n",
       "Middle Aged Single                    0.0  10.762218  30.0\n",
       "Middle_age_Parent                     0.0  10.843106  30.0\n",
       "Older Parent                          0.0  10.812258  30.0\n",
       "Young_Parent                          0.0  10.803913  30.0\n",
       "Younger Single                        0.0  10.932194  30.0"
      ]
     },
     "execution_count": 71,
     "metadata": {},
     "output_type": "execute_result"
    }
   ],
   "source": [
    "df_merge.groupby('customer_profile').agg({'days_since_prior_order':['min', 'mean', 'max']})"
   ]
  },
  {
   "cell_type": "code",
   "execution_count": 72,
   "id": "a0b39dc3",
   "metadata": {},
   "outputs": [],
   "source": [
    "profile_region = df_merge.groupby(['Region', 'customer_profile']).size()"
   ]
  },
  {
   "cell_type": "code",
   "execution_count": 74,
   "id": "0c7c8e90",
   "metadata": {},
   "outputs": [
    {
     "data": {
      "image/png": "[encoded data removed]",
      "text/plain": [
       "<Figure size 640x480 with 1 Axes>"
      ]
     },
     "metadata": {},
     "output_type": "display_data"
    }
   ],
   "source": [
    "profile_region_bar = profile_region.plot.bar(color = ['blue','grey','purple','yellow','green'],title = 'Customer Profile by Region')"
   ]
  },
  {
   "cell_type": "code",
   "execution_count": 75,
   "id": "90e0e06d",
   "metadata": {},
   "outputs": [],
   "source": [
    "#Export graph\n",
    "profile_region_bar.figure.savefig(os.path.join(path, '04 Analysis', 'Visualizations', 'profile_region_bar.png'))"
   ]
  },
  {
   "cell_type": "code",
   "execution_count": 85,
   "id": "553c4f91",
   "metadata": {},
   "outputs": [],
   "source": [
    "profile_department = df_merge.groupby(['department', 'customer_profile']).size().unstack(fill_value=0)\n"
   ]
  },
  {
   "cell_type": "code",
   "execution_count": 86,
   "id": "7530e60a",
   "metadata": {},
   "outputs": [
    {
     "data": {
      "image/png": "[encoded data removed]",
      "text/plain": [
       "<Figure size 640x480 with 1 Axes>"
      ]
     },
     "metadata": {},
     "output_type": "display_data"
    }
   ],
   "source": [
    "profile_department_bar = profile_department.plot.bar(color = ['blue','grey','purple','yellow','green'],title = 'Customer Profile by department')"
   ]
  },
  {
   "cell_type": "code",
   "execution_count": 89,
   "id": "db5ce1b6",
   "metadata": {},
   "outputs": [],
   "source": [
    "#Export graph\n",
    "profile_department_bar.figure.savefig(os.path.join(path, '04 Analysis', 'Visualizations', 'profile_department_bar.png'))"
   ]
  },
  {
   "cell_type": "code",
   "execution_count": 90,
   "id": "2449528b",
   "metadata": {},
   "outputs": [],
   "source": [
    "#Exporting \n",
    "df_merge.to_pickle(os.path.join(path, '02 Data','Prepared Data', 'high_acti_customer_ords_prods_merged.pkl'))"
   ]
  },
  {
   "cell_type": "code",
   "execution_count": 41,
   "id": "8bc5f2fd",
   "metadata": {},
   "outputs": [
    {
     "data": {
      "text/plain": [
       "(29270938, 36)"
      ]
     },
     "execution_count": 41,
     "metadata": {},
     "output_type": "execute_result"
    }
   ],
   "source": [
    "df_merge.shape"
   ]
  },
  {
   "cell_type": "code",
   "execution_count": null,
   "id": "df2d4a44",
   "metadata": {},
   "outputs": [],
   "source": []
  }
 ],
 "metadata": {
  "kernelspec": {
   "display_name": "Python 3 (ipykernel)",
   "language": "python",
   "name": "python3"
  },
  "language_info": {
   "codemirror_mode": {
    "name": "ipython",
    "version": 3
   },
   "file_extension": ".py",
   "mimetype": "text/x-python",
   "name": "python",
   "nbconvert_exporter": "python",
   "pygments_lexer": "ipython3",
   "version": "3.11.3"
  }
 },
 "nbformat": 4,
 "nbformat_minor": 5
}
