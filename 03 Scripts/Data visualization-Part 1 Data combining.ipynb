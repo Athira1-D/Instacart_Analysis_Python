{
 "cells": [
  {
   "cell_type": "code",
   "execution_count": 1,
   "id": "5ccc96e8",
   "metadata": {},
   "outputs": [],
   "source": [
    "import pandas as pd\n",
    "import numpy as np\n",
    "import os"
   ]
  },
  {
   "cell_type": "code",
   "execution_count": 2,
   "id": "75d6e424",
   "metadata": {},
   "outputs": [],
   "source": [
    "path=r'C:\\Users\\User\\CareerFoundry_Project_work'"
   ]
  },
  {
   "cell_type": "code",
   "execution_count": 3,
   "id": "b06eedc1",
   "metadata": {},
   "outputs": [],
   "source": [
    "ords_prods_merge = pd.read_pickle(os.path.join(path, '02 Data', 'Prepared Data', 'orders_products_grouping_aggregrating.pkl'))"
   ]
  },
  {
   "cell_type": "code",
   "execution_count": 8,
   "id": "2c9a18e9",
   "metadata": {},
   "outputs": [],
   "source": [
    "clean_customer = pd.read_pickle(os.path.join(path, '02 Data', 'Prepared Data', 'df_customers_clean.pkl'))"
   ]
  },
  {
   "cell_type": "code",
   "execution_count": 9,
   "id": "1d08e7fe",
   "metadata": {},
   "outputs": [],
   "source": [
    "#combining customer and ords_prods data\n",
    "df_merge = clean_customer.merge(ords_prods_merge, on = 'user_id', indicator = True)"
   ]
  },
  {
   "cell_type": "code",
   "execution_count": 11,
   "id": "76007720",
   "metadata": {},
   "outputs": [],
   "source": [
    "#Exporting combined data\n",
    "df_merge.to_pickle(os.path.join(path, '02 Data','Prepared Data', 'customer_ords_prods_merged.pkl'))"
   ]
  },
  {
   "cell_type": "code",
   "execution_count": null,
   "id": "594fb380",
   "metadata": {},
   "outputs": [],
   "source": []
  }
 ],
 "metadata": {
  "kernelspec": {
   "display_name": "Python 3 (ipykernel)",
   "language": "python",
   "name": "python3"
  },
  "language_info": {
   "codemirror_mode": {
    "name": "ipython",
    "version": 3
   },
   "file_extension": ".py",
   "mimetype": "text/x-python",
   "name": "python",
   "nbconvert_exporter": "python",
   "pygments_lexer": "ipython3",
   "version": "3.11.3"
  }
 },
 "nbformat": 4,
 "nbformat_minor": 5
}
