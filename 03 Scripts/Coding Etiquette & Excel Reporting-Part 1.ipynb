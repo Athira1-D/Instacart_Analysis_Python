{
 "cells": [
  {
   "cell_type": "code",
   "execution_count": 1,
   "id": "4b94a5dd",
   "metadata": {},
   "outputs": [],
   "source": [
    "import pandas as pd\n",
    "import numpy as np\n",
    "import os\n",
    "import matplotlib.pyplot as plt\n",
    "import seaborn as sns\n",
    "import scipy\n"
   ]
  },
  {
   "cell_type": "code",
   "execution_count": 2,
   "id": "cd1ef1d1",
   "metadata": {},
   "outputs": [],
   "source": [
    "path=r'C:\\Users\\User\\CareerFoundry_Project_work'"
   ]
  },
  {
   "cell_type": "code",
   "execution_count": 3,
   "id": "79ff4741",
   "metadata": {},
   "outputs": [],
   "source": [
    "#Importing merged data\n",
    "customer_ords_prods_merge = pd.read_pickle(os.path.join(path, '02 Data', 'Prepared Data', 'customer_ords_prods_merged.pkl'))\n"
   ]
  },
  {
   "cell_type": "code",
   "execution_count": 4,
   "id": "133f2e1d",
   "metadata": {},
   "outputs": [],
   "source": [
    "#Dropping Surname column due to PII data\n",
    "customer_ords_prods_merge = customer_ords_prods_merge.drop(columns=['surname'])"
   ]
  },
  {
   "cell_type": "code",
   "execution_count": 5,
   "id": "62406a60",
   "metadata": {},
   "outputs": [],
   "source": [
    "#Regional segmentation of data\n",
    "Region = []\n",
    "for value in customer_ords_prods_merge[\"STATE\"]:\n",
    "  if value in ['Maine','New Hampshire','Vermont','Massachusetts','Rhode Island','Connecticut','New York','Pennsylvania','New Jersey']:\n",
    "    Region.append(\"Northeast\")\n",
    "  elif value in ['Wisconsin','Michigan','Illinois','Indiana','Ohio','North Dakota','South Dakota','Nebraska','Kansas','Minnesota','Iowa','Missouri']:\n",
    "    Region.append(\"Midwest\")\n",
    "  elif value in ['Delaware','Maryland','District of Columbia','Virginia','West Virginia','North Carolina','South Carolina','Georgia','Florida','Kentucky','Tennessee','Mississippi','Alabama','Oklahoma','Texas','Arkansas','Louisiana']:\n",
    "      Region.append(\"South\")\n",
    "  else:\n",
    "    Region.append(\"West\")"
   ]
  },
  {
   "cell_type": "code",
   "execution_count": 6,
   "id": "86cec9d7",
   "metadata": {},
   "outputs": [],
   "source": [
    "#Creating new column Region\n",
    "customer_ords_prods_merge['Region']=Region"
   ]
  },
  {
   "cell_type": "code",
   "execution_count": 7,
   "id": "c35ba311",
   "metadata": {},
   "outputs": [],
   "source": [
    "#Finding whether there’s a difference in spending habits between the different U.S. regions.\n",
    "crosstab = pd.crosstab(customer_ords_prods_merge['Region'], customer_ords_prods_merge['spending_flag'], dropna=False)"
   ]
  },
  {
   "cell_type": "code",
   "execution_count": 8,
   "id": "ce43b983",
   "metadata": {},
   "outputs": [
    {
     "data": {
      "text/html": [
       "<div>\n",
       "<style scoped>\n",
       "    .dataframe tbody tr th:only-of-type {\n",
       "        vertical-align: middle;\n",
       "    }\n",
       "\n",
       "    .dataframe tbody tr th {\n",
       "        vertical-align: top;\n",
       "    }\n",
       "\n",
       "    .dataframe thead th {\n",
       "        text-align: right;\n",
       "    }\n",
       "</style>\n",
       "<table border=\"1\" class=\"dataframe\">\n",
       "  <thead>\n",
       "    <tr style=\"text-align: right;\">\n",
       "      <th>spending_flag</th>\n",
       "      <th>High spender</th>\n",
       "      <th>Low spender</th>\n",
       "    </tr>\n",
       "    <tr>\n",
       "      <th>Region</th>\n",
       "      <th></th>\n",
       "      <th></th>\n",
       "    </tr>\n",
       "  </thead>\n",
       "  <tbody>\n",
       "    <tr>\n",
       "      <th>Midwest</th>\n",
       "      <td>149817</td>\n",
       "      <td>7027107</td>\n",
       "    </tr>\n",
       "    <tr>\n",
       "      <th>Northeast</th>\n",
       "      <td>101420</td>\n",
       "      <td>5320605</td>\n",
       "    </tr>\n",
       "    <tr>\n",
       "      <th>South</th>\n",
       "      <td>196523</td>\n",
       "      <td>10002459</td>\n",
       "    </tr>\n",
       "    <tr>\n",
       "      <th>West</th>\n",
       "      <td>147803</td>\n",
       "      <td>7684007</td>\n",
       "    </tr>\n",
       "  </tbody>\n",
       "</table>\n",
       "</div>"
      ],
      "text/plain": [
       "spending_flag  High spender  Low spender\n",
       "Region                                  \n",
       "Midwest              149817      7027107\n",
       "Northeast            101420      5320605\n",
       "South                196523     10002459\n",
       "West                 147803      7684007"
      ]
     },
     "execution_count": 8,
     "metadata": {},
     "output_type": "execute_result"
    }
   ],
   "source": [
    "crosstab "
   ]
  },
  {
   "cell_type": "markdown",
   "id": "0f52f023",
   "metadata": {},
   "source": [
    "In the South region there is visible spending disparity.The region South itself have maximum number of highest spending people and lowest spending people.After South maximum number of spending people is in Midwest and maximum number of lowest spending people is in region West."
   ]
  },
  {
   "cell_type": "code",
   "execution_count": 9,
   "id": "8c2619a4",
   "metadata": {},
   "outputs": [],
   "source": [
    "#Create an flag for low-activity customers \n",
    "customer_ords_prods_merge.loc[customer_ords_prods_merge['max_order'] < 5, 'activity_flag'] = 'low_activity_customers'"
   ]
  },
  {
   "cell_type": "code",
   "execution_count": 10,
   "id": "ba628843",
   "metadata": {},
   "outputs": [],
   "source": [
    "#Create an flag for high-activity customers\n",
    "customer_ords_prods_merge.loc[customer_ords_prods_merge['max_order'] >= 5, 'activity_flag'] = 'high_activity_customers'"
   ]
  },
  {
   "cell_type": "code",
   "execution_count": 11,
   "id": "aa667dd6",
   "metadata": {},
   "outputs": [],
   "source": [
    "df_low_activity=customer_ords_prods_merge[customer_ords_prods_merge['activity_flag'] == 'low_activity_customers']"
   ]
  },
  {
   "cell_type": "code",
   "execution_count": 12,
   "id": "126677d8",
   "metadata": {},
   "outputs": [],
   "source": [
    "df_high_activity=customer_ords_prods_merge[customer_ords_prods_merge['activity_flag'] == 'high_activity_customers']"
   ]
  },
  {
   "cell_type": "code",
   "execution_count": 13,
   "id": "b7e3cd93",
   "metadata": {},
   "outputs": [],
   "source": [
    "#Exporting low-activity customers data\n",
    "df_low_activity.to_pickle(os.path.join(path, '02 Data','Prepared Data', 'low_activity_customers.pkl'))"
   ]
  },
  {
   "cell_type": "code",
   "execution_count": 14,
   "id": "8823509b",
   "metadata": {},
   "outputs": [],
   "source": [
    "#Exporting high-activity customers data\n",
    "df_high_activity.to_pickle(os.path.join(path, '02 Data','Prepared Data', 'high_activity_customers.pkl'))"
   ]
  },
  {
   "cell_type": "code",
   "execution_count": 16,
   "id": "e8865cec",
   "metadata": {},
   "outputs": [],
   "source": [
    "#Importing high_activity_customers data\n",
    "high_activity_customers = pd.read_pickle(os.path.join(path, '02 Data', 'Prepared Data', 'high_activity_customers.pkl'))"
   ]
  },
  {
   "cell_type": "code",
   "execution_count": null,
   "id": "da805aab",
   "metadata": {},
   "outputs": [],
   "source": []
  }
 ],
 "metadata": {
  "kernelspec": {
   "display_name": "Python 3 (ipykernel)",
   "language": "python",
   "name": "python3"
  },
  "language_info": {
   "codemirror_mode": {
    "name": "ipython",
    "version": 3
   },
   "file_extension": ".py",
   "mimetype": "text/x-python",
   "name": "python",
   "nbconvert_exporter": "python",
   "pygments_lexer": "ipython3",
   "version": "3.11.3"
  }
 },
 "nbformat": 4,
 "nbformat_minor": 5
}
