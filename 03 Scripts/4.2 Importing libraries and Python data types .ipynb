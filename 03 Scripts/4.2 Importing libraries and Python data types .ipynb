{
 "cells": [
  {
   "cell_type": "markdown",
   "id": "a7c1352d",
   "metadata": {},
   "source": [
    "#01.Importing libraries"
   ]
  },
  {
   "cell_type": "code",
   "execution_count": 26,
   "id": "a46b027a",
   "metadata": {},
   "outputs": [],
   "source": [
    "# Import libraries\n",
    "import pandas as pd\n",
    "import numpy as np\n",
    "import os"
   ]
  },
  {
   "cell_type": "code",
   "execution_count": 27,
   "id": "cd26f867",
   "metadata": {},
   "outputs": [],
   "source": [
    "x=50"
   ]
  },
  {
   "cell_type": "code",
   "execution_count": 28,
   "id": "0838c3f6",
   "metadata": {},
   "outputs": [],
   "source": [
    "y=50"
   ]
  },
  {
   "cell_type": "code",
   "execution_count": 29,
   "id": "cfe08ab7",
   "metadata": {},
   "outputs": [
    {
     "data": {
      "text/plain": [
       "100"
      ]
     },
     "execution_count": 29,
     "metadata": {},
     "output_type": "execute_result"
    }
   ],
   "source": [
    "x+y"
   ]
  },
  {
   "cell_type": "code",
   "execution_count": 30,
   "id": "37dabb10",
   "metadata": {},
   "outputs": [],
   "source": [
    "a=200"
   ]
  },
  {
   "cell_type": "code",
   "execution_count": 31,
   "id": "b79fa904",
   "metadata": {},
   "outputs": [],
   "source": [
    "b=100"
   ]
  },
  {
   "cell_type": "code",
   "execution_count": 32,
   "id": "2992d470",
   "metadata": {},
   "outputs": [
    {
     "data": {
      "text/plain": [
       "100"
      ]
     },
     "execution_count": 32,
     "metadata": {},
     "output_type": "execute_result"
    }
   ],
   "source": [
    "a-b"
   ]
  },
  {
   "cell_type": "code",
   "execution_count": 33,
   "id": "fc130b9b",
   "metadata": {},
   "outputs": [],
   "source": [
    "c=80"
   ]
  },
  {
   "cell_type": "code",
   "execution_count": 34,
   "id": "2074e064",
   "metadata": {},
   "outputs": [],
   "source": [
    "d=20"
   ]
  },
  {
   "cell_type": "code",
   "execution_count": 35,
   "id": "a28f4777",
   "metadata": {},
   "outputs": [
    {
     "data": {
      "text/plain": [
       "100"
      ]
     },
     "execution_count": 35,
     "metadata": {},
     "output_type": "execute_result"
    }
   ],
   "source": [
    "c+d"
   ]
  },
  {
   "cell_type": "code",
   "execution_count": 36,
   "id": "20fcbc03",
   "metadata": {},
   "outputs": [],
   "source": [
    "i=4.95"
   ]
  },
  {
   "cell_type": "code",
   "execution_count": 37,
   "id": "8476cde1",
   "metadata": {},
   "outputs": [],
   "source": [
    "j=3.45"
   ]
  },
  {
   "cell_type": "code",
   "execution_count": 38,
   "id": "baf92a2e",
   "metadata": {},
   "outputs": [
    {
     "data": {
      "text/plain": [
       "1.434782608695652"
      ]
     },
     "execution_count": 38,
     "metadata": {},
     "output_type": "execute_result"
    }
   ],
   "source": [
    "i/j"
   ]
  },
  {
   "cell_type": "code",
   "execution_count": 39,
   "id": "a5200328",
   "metadata": {},
   "outputs": [],
   "source": [
    "s1='Good '"
   ]
  },
  {
   "cell_type": "code",
   "execution_count": 40,
   "id": "4b8870cb",
   "metadata": {},
   "outputs": [],
   "source": [
    "s2='Morning'"
   ]
  },
  {
   "cell_type": "code",
   "execution_count": 41,
   "id": "5595cca9",
   "metadata": {},
   "outputs": [
    {
     "data": {
      "text/plain": [
       "'Good Morning'"
      ]
     },
     "execution_count": 41,
     "metadata": {},
     "output_type": "execute_result"
    }
   ],
   "source": [
    "s1+s2"
   ]
  },
  {
   "cell_type": "code",
   "execution_count": 42,
   "id": "2983a6ef",
   "metadata": {},
   "outputs": [],
   "source": [
    "s1='I am Athira. '"
   ]
  },
  {
   "cell_type": "code",
   "execution_count": 43,
   "id": "15df9ef7",
   "metadata": {},
   "outputs": [],
   "source": [
    "s2='I am from India.'"
   ]
  },
  {
   "cell_type": "code",
   "execution_count": 44,
   "id": "c1916b5b",
   "metadata": {},
   "outputs": [
    {
     "data": {
      "text/plain": [
       "'I am Athira. I am from India.'"
      ]
     },
     "execution_count": 44,
     "metadata": {},
     "output_type": "execute_result"
    }
   ],
   "source": [
    "s1+s2"
   ]
  },
  {
   "cell_type": "code",
   "execution_count": 45,
   "id": "675b421f",
   "metadata": {},
   "outputs": [],
   "source": [
    "s3='Python is very '"
   ]
  },
  {
   "cell_type": "code",
   "execution_count": 46,
   "id": "37ec3ee0",
   "metadata": {},
   "outputs": [],
   "source": [
    "s4='simple to learn.'"
   ]
  },
  {
   "cell_type": "code",
   "execution_count": 47,
   "id": "bab34ea0",
   "metadata": {},
   "outputs": [
    {
     "data": {
      "text/plain": [
       "'Python is very simple to learn.'"
      ]
     },
     "execution_count": 47,
     "metadata": {},
     "output_type": "execute_result"
    }
   ],
   "source": [
    "s3+s4"
   ]
  },
  {
   "cell_type": "code",
   "execution_count": null,
   "id": "2ea7f7fe",
   "metadata": {},
   "outputs": [],
   "source": []
  }
 ],
 "metadata": {
  "kernelspec": {
   "display_name": "Python 3 (ipykernel)",
   "language": "python",
   "name": "python3"
  },
  "language_info": {
   "codemirror_mode": {
    "name": "ipython",
    "version": 3
   },
   "file_extension": ".py",
   "mimetype": "text/x-python",
   "name": "python",
   "nbconvert_exporter": "python",
   "pygments_lexer": "ipython3",
   "version": "3.11.3"
  }
 },
 "nbformat": 4,
 "nbformat_minor": 5
}
